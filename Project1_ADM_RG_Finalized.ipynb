{
 "cells": [
  {
   "cell_type": "code",
   "execution_count": null,
   "id": "1359d7b0-36b5-48d1-a363-e549ce752dd1",
   "metadata": {},
   "outputs": [],
   "source": [
    "#!/users/bin/env python\n",
    "\n",
    "import pandas as pd #Pandas dataframe package\n",
    "import matplotlib.pyplot as plt #Plotting package in Python \n",
    "import numpy as np #Numpy package for math peratiosn in Python\n",
    "import re #regular expressions package in python\n",
    "\n",
    "\n",
    "df = pd.read_csv('/blue/bsc4452/admontalvo/Class_Files/data/flights.1K.csv', sep=',') #displaying the flights.1K.csv data\n",
    "\n",
    "df.head(10) #print out the first 10 lines of the flights.1K.csv dataset \n"
   ]
  },
  {
   "cell_type": "code",
   "execution_count": null,
   "id": "474b816b-6957-43fc-af9a-14ba046d19a4",
   "metadata": {},
   "outputs": [],
   "source": [
    "#print out the last 10 lines of the flights.1K.csv dataset \n",
    "df.tail(10)"
   ]
  },
  {
   "cell_type": "code",
   "execution_count": null,
   "id": "25c82079-5882-4201-b20a-5a737c455d3b",
   "metadata": {},
   "outputs": [],
   "source": [
    "# list of values of 'OP_UNIQUE_CARRIER' column in a listed format to be able to view all 4 flight services\n",
    "unique_carrier_col = df['OP_UNIQUE_CARRIER'].tolist()\n",
    "print(unique_carrier_col)"
   ]
  },
  {
   "cell_type": "code",
   "execution_count": null,
   "id": "87497d19-ca82-4d17-9997-435ae182f6a2",
   "metadata": {},
   "outputs": [],
   "source": [
    "#Counting all the values of 'OH' in the OP_UNIQUE_CARRIER column of the dataframe\n",
    "unique_carrier_col.count('OH')"
   ]
  },
  {
   "cell_type": "code",
   "execution_count": null,
   "id": "4d99daa7-ef97-42f6-9c23-584e6a235dd0",
   "metadata": {},
   "outputs": [],
   "source": [
    "#Counting all the values of 'AA' in the OP_UNIQUE_CARRIER column of the dataframe\n",
    "unique_carrier_col.count('AA')"
   ]
  },
  {
   "cell_type": "code",
   "execution_count": null,
   "id": "0bed92ef-0529-444d-9870-a6c6e4a7e389",
   "metadata": {},
   "outputs": [],
   "source": [
    "#Counting all the values of 'YV' in the OP_UNIQUE_CARRIER column of the dataframe\n",
    "unique_carrier_col.count('YV')"
   ]
  },
  {
   "cell_type": "code",
   "execution_count": null,
   "id": "92cdaaba-2008-4ae8-bdd5-cc2fc5a52873",
   "metadata": {},
   "outputs": [],
   "source": [
    "#Counting all the values of 'DL' in the OP_UNIQUE_CARRIER column of the dataframe\n",
    "unique_carrier_col.count('DL')"
   ]
  },
  {
   "cell_type": "code",
   "execution_count": null,
   "id": "3fb67b5e-e7f8-4e5d-8a1e-57141c933120",
   "metadata": {},
   "outputs": [],
   "source": [
    "#Assigning variables to the counts of the 4 flight carrier service of OP_UNIQUE_CARRIER column in the fights.1K.csv dataset\n",
    "ohio = unique_carrier_col.count('OH')\n",
    "american_airlines = unique_carrier_col.count('AA')\n",
    "vancouver = unique_carrier_col.count('YV')\n",
    "delta_airlines = unique_carrier_col.count('DL')"
   ]
  },
  {
   "cell_type": "code",
   "execution_count": null,
   "id": "640e21aa-edb5-4b7d-8f1d-7e9fe2b23910",
   "metadata": {},
   "outputs": [],
   "source": [
    "#Define function to count the number of times each carrier flew in this data set\n",
    "#Using a function to verify the individual counts\n",
    "flight_carrier = df['OP_UNIQUE_CARRIER']\n",
    "\n",
    "def carrier_count():\n",
    "    count_AA = 0\n",
    "    count_DL = 0\n",
    "    count_OH = 0\n",
    "    count_YV = 0 \n",
    "\n",
    "    for line in flight_carrier:\n",
    "       if line.startswith('AA'):\n",
    "          count_AA = count_AA + 1\n",
    "       elif line.startswith('DL'):\n",
    "          count_DL = count_DL + 1\n",
    "       elif line.startswith('OH'):\n",
    "          count_OH = count_OH + 1\n",
    "       elif line.startswith('YV'):\n",
    "          count_YV = count_YV + 1\n",
    "       else:\n",
    "          print('Carrier not accounted for in count')\n",
    "        \n",
    "    return(\"AA:\", count_AA, \"DL:\", count_DL, \"OH:\", count_OH, \"YV:\", count_YV)\n",
    "\n",
    "\n",
    "carrier_count()"
   ]
  },
  {
   "cell_type": "code",
   "execution_count": null,
   "id": "acf11ec5-1156-46b9-a4c5-13453a291c01",
   "metadata": {},
   "outputs": [],
   "source": [
    "#Bar Chart of flight carrier services within the flights.1K.csv dataset\n",
    "\n",
    "x = ['Ohio', 'American', 'Vancouver', 'Delta']\n",
    "y = [ohio, american_airlines, vancouver, delta_airlines]\n",
    "colors = ['red', 'blue', 'orange', 'green']\n",
    "plt.bar(x, y, color = colors)\n",
    "\n",
    "# Add title and axis names\n",
    "plt.title('Airport Carrier Accross the flights.1K.csv Dataset')\n",
    "plt.ylabel('Number of flights')\n",
    "plt.xlabel('Airport Carrier Service')\n",
    "\n",
    "plt.show()\n"
   ]
  },
  {
   "cell_type": "code",
   "execution_count": null,
   "id": "837f543b-a977-45cb-98e0-413625253020",
   "metadata": {},
   "outputs": [],
   "source": [
    "#Assigning variables to flight distance\n",
    "flight_distance = df['DISTANCE']\n",
    "print(flight_distance)"
   ]
  },
  {
   "cell_type": "code",
   "execution_count": null,
   "id": "feb6a743-fbae-4b6b-8f5b-2323796fd271",
   "metadata": {},
   "outputs": [],
   "source": [
    "#Assigning variables to destinations  \n",
    "destination = df['DEST']\n",
    "print(destination)"
   ]
  },
  {
   "cell_type": "code",
   "execution_count": null,
   "id": "71042f4b-b179-4c90-9d2e-97a71e9c6fb6",
   "metadata": {},
   "outputs": [],
   "source": [
    "#Separating flights in the dataset to long, medium, and short flights and displaying the destination \n",
    "#Defined function 'flight_distance_defined()' to separate flight distances into long, medium, short flight ranges\n",
    "\n",
    "flight_distance = df['DISTANCE'] #Assigning the flight_distance variable to define distance column from the flights.1K.csv file\n",
    "destination = df['DEST'] #Assigning the destination variable to define the final destination column from the flights.1K.csv file\n",
    "\n",
    "def flight_distance_defined():\n",
    "    for row in flight_distance:\n",
    "        if row > 800:\n",
    "            print(\"Long flight to:\" + destination)\n",
    "        elif 500 < row < 800:\n",
    "            print(\"Medium flight to:\" + destination)\n",
    "        else:\n",
    "            print(\"Short flight to:\" + destination)\n",
    "    \n",
    "    return()\n",
    "\n",
    "flight_distance_defined()\n",
    "\n"
   ]
  },
  {
   "cell_type": "code",
   "execution_count": null,
   "id": "4c6f3afd-5977-4bb1-9239-057c9b06dae7",
   "metadata": {},
   "outputs": [],
   "source": [
    "#Counting the number of long medium and short flights to create a pie chart\n",
    "long_count=0\n",
    "medium_count=0\n",
    "short_count=0\n",
    "\n",
    "for row in flight_distance:\n",
    "    if row > 800:\n",
    "        long_count +=1 #stores the number of times a flight distance is > 800 as aplaceholder to put in a dataframe\n",
    "    elif 500 < row < 800:\n",
    "        medium_count +=1 #stores the number of times a flight distance is  500< row < 800 as aplaceholder to put in a dataframe\n",
    "    else:\n",
    "        short_count +=1 #stores the number of times a flight distance is  500< row < 800 as aplaceholder to put in a dataframe\n",
    "#Printing out the number of long medium and short flights with counts\n",
    "print(\"Long Flight:\", long_count)\n",
    "print(\"Medium Flight:\", medium_count)\n",
    "print(\"Short Flight:\", short_count)\n"
   ]
  },
  {
   "cell_type": "code",
   "execution_count": null,
   "id": "96c7c5ad-add1-4df5-bf43-e22d8d19b11c",
   "metadata": {},
   "outputs": [],
   "source": [
    "#Adding values of long, medium, and short flights\n",
    "#Listing the total distance distributions as variables among long, medium and short flights\n",
    "long_flight_total = 403\n",
    "medium_flight_total = 246\n",
    "short_flight_total = 351\n",
    "\n",
    "#Putting the values as a list to add them\n",
    "sum_list = [403, 246, 351]\n",
    "#Storing the sum in a variable\n",
    "total_sum_distance = sum(sum_list)\n",
    "#Printing out the sum of all the flights\n",
    "print(\"The Total Distance Among all flights is:\", total_sum_distance)"
   ]
  },
  {
   "cell_type": "code",
   "execution_count": null,
   "id": "0cf451ff-d402-460b-931a-c36ca4cd32cb",
   "metadata": {},
   "outputs": [],
   "source": [
    "# Creating a basic pie chart with the long, medium and short flight distance data\n",
    "flight_pie = ['Long Flight Distance', 'Medium Flight Distance', 'Short Flight Distance']\n",
    " \n",
    "data = [403, 246, 351]\n",
    " \n",
    "# Creating plot\n",
    "fig = plt.figure(figsize =(10, 7))\n",
    "plt.pie(data, labels = flight_pie)\n",
    " \n",
    "# show plot\n",
    "\n",
    "plt.title('Distribution of Long, Medium and Short Flights Distances Accross the flights.1K.csv Dataset') \n",
    "\n",
    "plt.show()"
   ]
  },
  {
   "cell_type": "code",
   "execution_count": null,
   "id": "0ba82f70-7b93-40b3-a0ec-1c4157119050",
   "metadata": {},
   "outputs": [],
   "source": [
    "#Customizing the pie long, medium and short chart and playing around with the functions\n",
    "labels = 'Long Flight', 'Medium Flight', 'Short Flight'\n",
    "sizes = [403, 246, 351]\n",
    " \n",
    "colors = ( \"orange\", \"cyan\", \"brown\") \n",
    "fig1, ax1 = plt.subplots()\n",
    "explode = (0.1, 0, 0) #Can change the value to make the slice of the pie farther or closer \n",
    "#in this case the long flights are extended \n",
    "\n",
    "#Customizing the pie chart explode makes a slice pop out startangle rotates it\n",
    "ax1.pie(sizes, colors = colors, explode=explode, labels=labels,autopct='%1.1f%%', shadow=True, startangle=90)\n",
    "patches, texts, auto = ax1.pie(sizes, colors=colors, shadow=True, startangle=90,explode=explode, autopct='%1.1f%%' )\n",
    "\n",
    "plt.title('Distribution of Long, Medium and Short Flights Distances Accross the flights.1K.csv Dataset') \n",
    "plt.legend(patches, labels, loc=\"best\") #legend is poorly placed but I mostly wanted to work with the code\n",
    "#the legend can be moved with upper left, lower right, upper right, designitions but all of them look worse\n",
    "plt.show()"
   ]
  },
  {
   "cell_type": "code",
   "execution_count": null,
   "id": "17f5cedf-a8e3-46f6-a3d5-7a24af603bac",
   "metadata": {},
   "outputs": [],
   "source": [
    "#Searching the file for OH OP_UNIQUE_CARRIER Similair to grep in the command line using regualr expressions\n",
    "#Testing out the re package to search for patterns with python \n",
    "pattern = 'OH' #defining the term to search for\n",
    "\n",
    "file = open('flights.1K.csv', 'r') #opening a readable file \n",
    "\n",
    "for ohio in file: #searching the dataset row by row \n",
    "#for all instances with the term OH in them with no specification on column\n",
    "    if re.search(pattern, ohio):\n",
    "        print(ohio)\n"
   ]
  }
 ],
 "metadata": {
  "kernelspec": {
   "display_name": "UFRC Python-3.10",
   "language": "python",
   "name": "python3-3.10-ufrc"
  },
  "language_info": {
   "codemirror_mode": {
    "name": "ipython",
    "version": 3
   },
   "file_extension": ".py",
   "mimetype": "text/x-python",
   "name": "python",
   "nbconvert_exporter": "python",
   "pygments_lexer": "ipython3",
   "version": "3.10.5"
  }
 },
 "nbformat": 4,
 "nbformat_minor": 5
}
